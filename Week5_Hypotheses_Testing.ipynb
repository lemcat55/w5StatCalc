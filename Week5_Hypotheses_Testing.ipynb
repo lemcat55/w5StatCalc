{
  "nbformat": 4,
  "nbformat_minor": 0,
  "metadata": {
    "colab": {
      "provenance": [],
      "toc_visible": true,
      "authorship_tag": "ABX9TyOj+VdKyipLIl3wNPxChG3I",
      "include_colab_link": true
    },
    "kernelspec": {
      "name": "python3",
      "display_name": "Python 3"
    },
    "language_info": {
      "name": "python"
    }
  },
  "cells": [
    {
      "cell_type": "markdown",
      "metadata": {
        "id": "view-in-github",
        "colab_type": "text"
      },
      "source": [
        "<a href=\"https://colab.research.google.com/github/lemcat55/w5StatCalc/blob/main/Week5_Hypotheses_Testing.ipynb\" target=\"_parent\"><img src=\"https://colab.research.google.com/assets/colab-badge.svg\" alt=\"Open In Colab\"/></a>"
      ]
    },
    {
      "cell_type": "markdown",
      "source": [
        "# 1: Load libraries; define helper functions"
      ],
      "metadata": {
        "id": "i2lTyK55k3Wd"
      }
    },
    {
      "cell_type": "code",
      "source": [
        "import numpy as np\n",
        "import scipy.stats as stats\n",
        "bFullAnswer=True\n",
        "def h(Claim,tz,alpha,mean,sigma,n,m):\n",
        "  pHat=mean\n",
        "  print('Claim: '+Claim)\n",
        "\n",
        "  signs=[\"<=\",\">=\",\"!=\",\"=\",\"<\",\">\",\"\"]\n",
        "  for sign in signs:\n",
        "    pr=Claim.split(sign)\n",
        "    if len(pr)==2: \n",
        "      break\n",
        "  mup=pr[0].strip()\n",
        "  value=pr[1].strip()\n",
        "  meanH0=float(value)\n",
        "  mmean=np.round(mean,m)\n",
        "  if sigma==None: \n",
        "    sigma=np.sqrt(meanH0*(1-meanH0))\n",
        "    flag=0\n",
        "\n",
        "  msigma=np.round(sigma,m)\n",
        "  se=sigma/np.sqrt(n)\n",
        "  mse=np.round(se,m)\n",
        "  \n",
        "  testStat=(mean-meanH0)/(sigma/np.sqrt(n))\n",
        "  mtestStat=np.round(testStat,m) \n",
        "  if sign=='<' or sign=='>=': \n",
        "    test=\"Left-Tailed\"   \n",
        "    if  bFullAnswer:\n",
        "      print('H0: '+mup+'>='+value)\n",
        "      print('HA: '+mup+'<'+value)\n",
        "      \n",
        "\n",
        "    if mup=='p':\n",
        "      sig=np.sqrt(pHat*(1-pHat))\n",
        "      print('Sample proportion =',mmean)\n",
        "      print('Standard Deviation =',np.round(sig,m) )\n",
        "      print('se =',np.round(sig/np.sqrt(n),m))\n",
        "    else:print('se =',mse)\n",
        "    \n",
        "    if tz=='z': z=stats.norm.ppf(alpha,loc=0,scale=1)\n",
        "    if tz=='t': z=stats.t.ppf(alpha,n-1,loc=0,scale=1)\n",
        "    z1=z\n",
        "    mz1=np.round(z1,m)\n",
        "    print(\"Test statistic =\",mtestStat,\"\\nNonrejection region =[\",mz1,\",inf]\")\n",
        "    if tz=='z': pValue=stats.norm.cdf(testStat)\n",
        "    if tz=='t': pValue=stats.t.cdf(testStat,n-1)\n",
        "    mpValue=np.round(pValue,m)\n",
        "    if bFullAnswer:\n",
        "      if pValue>alpha: print('Left-Sided p-Value =',mpValue,'>',alpha,' \\nFail to reject H0')\n",
        "      else: print('Left-Sided p-Value =',mpValue,'<',alpha,'. \\nReject H0')\n",
        "      d(pValue,sign,alpha)\n",
        "    else:\n",
        "      if pValue>alpha: print('Left-Sided p-Value =',mpValue)\n",
        "      else: print('Left-Sided p-Value =',mpValue)\n",
        "  elif sign=='>' or sign=='<=': \n",
        "    test=\"Rigth-Tailed\" \n",
        "    if  bFullAnswer:   \n",
        "      print('H0: '+mup+'<='+value)\n",
        "      print('HA: '+mup+'>'+value) \n",
        "    if mup=='p':\n",
        "      sig=np.sqrt(pHat*(1-pHat))\n",
        "      print('Sample proportion =',mmean)\n",
        "      print('Standard Deviation =',np.round(sig,m) )\n",
        "      print('se =', np.round(sig/np.sqrt(n),m))\n",
        "    else:print('se =',mse)\n",
        "    if tz=='z': z=stats.norm.ppf(1-alpha,loc=0,scale=1)\n",
        "    if tz=='t': z=stats.t.ppf(1-alpha,n-1,loc=0,scale=1)\n",
        "    z2=z\n",
        "    mz2=np.round(z2,m)\n",
        "    print(\"Test statistic =\",mtestStat,\"\\nNonrejection region = [-inf,\",mz2,\"]\")\n",
        "    if tz=='z': pValue=(1-stats.norm.cdf(testStat))\n",
        "    if tz=='t': pValue=(1-stats.t.cdf(testStat,n-1))\n",
        "    mpValue=np.round(pValue,m)\n",
        "    if bFullAnswer:\n",
        "      if pValue>alpha: print('Right-Sided p-Value =',mpValue,'>',alpha,' \\nFail to reject H0')\n",
        "      else: print('Right-Sided p-Value =',mpValue,'<',alpha,'. \\nReject H0')\n",
        "      d(pValue,sign,alpha)\n",
        "    else:\n",
        "      if pValue>alpha: print('Right-Sided p-Value =',mpValue)\n",
        "      else: print('Right-Sided p-Value =',mpValue)      \n",
        "  else:#  \"Two-Tailed\"\n",
        "    if  bFullAnswer:\n",
        "      print('H0: '+mup+'='+value)\n",
        "      print('HA: '+mup+'!='+value)\n",
        "    if mup=='p':\n",
        "      sig=np.sqrt(pHat*(1-pHat))\n",
        "      print('Sample proportion =',mmean)\n",
        "      print('Standard Deviation =', sig)\n",
        "      print('se =',np.round(sig/np.sqrt(n),m))\n",
        "    else:print('se =',mse)\n",
        "    test=\"Two-Tailed\"\n",
        "    if tz=='z': z=stats.norm.ppf(1-alpha/2,loc=0,scale=1)\n",
        "    if tz=='t': z=stats.t.ppf(1-alpha/2,n-1,loc=0,scale=1)\n",
        "    mz=np.round(z,m)\n",
        "    z1=-z\n",
        "    z2=z\n",
        "    mz1=np.round(z1,m)\n",
        "    mz2=np.round(z2,m)\n",
        "    print(\"Test statistic =\",mtestStat,\"\\nNonrejection region = [\",mz1,\",\",mz2,\"]\")\n",
        "    if tz=='z': pValue=2*(1-stats.norm.cdf(testStat))\n",
        "    if tz=='t': pValue=2*(1-stats.t.cdf(testStat,n-1))\n",
        "    mpValue=np.round(pValue,m)\n",
        "    if bFullAnswer:\n",
        "      if pValue>alpha: print('Two-Sided p-Value =',mpValue,'>',alpha,' \\nFail to reject H0')\n",
        "      else: print('Two-Sided p-Value =',mpValue,'<',alpha,'. \\nReject H0')\n",
        "      d(pValue,sign,alpha)\n",
        "    else:\n",
        "      if pValue>alpha: print('Two-Sided p-Value =',mpValue)\n",
        "      else: print('Two-Sided p-Value =',mpValue)\n",
        "\n",
        "def d(pValue,sign,alpha):\n",
        "  if (pValue<alpha):#Reject \n",
        "    if sign=='<' or sign=='>'or sign=='!=':# HA==Claim\n",
        "      print(\"Enough evidence to support the claim.\")###\n",
        "    else: print(\"Enough evidence to reject the claim.\")#H0=Claim\n",
        "  else:#Fail to reject\n",
        "    if sign=='<' or sign=='>'or sign=='!=':# HA==Claim\n",
        "      print(\"Not enough evidence to support the claim.\")\n",
        "    else: print(\"Not enough evidence to reject the claim.\")#H0=Claim"
      ],
      "metadata": {
        "id": "OmYqbjDOk17W"
      },
      "execution_count": null,
      "outputs": []
    },
    {
      "cell_type": "markdown",
      "source": [
        "#2: Test population mean when population sigma is known "
      ],
      "metadata": {
        "id": "C-Avp-5AGga3"
      }
    },
    {
      "cell_type": "code",
      "execution_count": null,
      "metadata": {
        "id": "pfWczBQfxa4L",
        "colab": {
          "base_uri": "https://localhost:8080/"
        },
        "outputId": "16416716-1fd7-4f27-c66c-9ba54dc52e6a"
      },
      "outputs": [
        {
          "output_type": "stream",
          "name": "stdout",
          "text": [
            "Claim: mu>141\n",
            "H0: mu<=141\n",
            "HA: mu>141\n",
            "se = 5.3033\n",
            "Test statistic = 1.5028 \n",
            "Nonrejection region = [-inf, 1.6449 ]\n",
            "Right-Sided p-Value = 0.0664 > 0.05  \n",
            "Fail to reject H0\n",
            "Not enough evidence to support the claim.\n"
          ]
        }
      ],
      "source": [
        "##  Enter your data #################\n",
        "Claim=\"mu>141\"#population mean \n",
        "alpha=0.05\n",
        "n=32\n",
        "mean=148.97 # sample mean \n",
        "sigma=30 # population std\n",
        "################\n",
        "DisplayPrecision=4\n",
        "h(Claim,'z',alpha,mean,sigma,n, DisplayPrecision)"
      ]
    },
    {
      "cell_type": "markdown",
      "source": [
        "# 3: Test population mean when population sigma is NOT known"
      ],
      "metadata": {
        "id": "9Zvw-exZ0wSZ"
      }
    },
    {
      "cell_type": "code",
      "source": [
        "##  Enter your data #################\n",
        "Claim=\"mu=14.7\" #population mean\n",
        "alpha=0.05\n",
        "n=100\n",
        "mean=15.26# sample mean\n",
        "std=2.33 # sample std\n",
        "################\n",
        "DisplayPrecision=4\n",
        "h(Claim,'t',alpha,mean,std,n,DisplayPrecision)"
      ],
      "metadata": {
        "colab": {
          "base_uri": "https://localhost:8080/"
        },
        "id": "WhBUn2D51Puo",
        "outputId": "bdd25729-2ac2-41e5-b432-ee3ecbbe45e9"
      },
      "execution_count": null,
      "outputs": [
        {
          "output_type": "stream",
          "name": "stdout",
          "text": [
            "Claim: mu=14.7\n",
            "H0: mu=14.7\n",
            "HA: mu!=14.7\n",
            "se = 0.233\n",
            "Test statistic = 2.4034 \n",
            "Nonrejection region = [ -1.9842 , 1.9842 ]\n",
            "Two-Sided p-Value = 0.0181 < 0.05 . \n",
            "Reject H0\n",
            "Enough evidence to reject the claim.\n"
          ]
        }
      ]
    },
    {
      "cell_type": "code",
      "source": [],
      "metadata": {
        "id": "NBhOUVW3kp1Y"
      },
      "execution_count": null,
      "outputs": []
    },
    {
      "cell_type": "markdown",
      "source": [
        "# 4: Test population proportion when number of successes is known"
      ],
      "metadata": {
        "id": "xx5Af6iQ7hIX"
      }
    },
    {
      "cell_type": "code",
      "source": [
        "##  Enter your data #################\n",
        "Claim=\"p<0.55\" # population prroportion\n",
        "alpha=0.05\n",
        "n=100\n",
        "nSuccessses=53\n",
        "################\n",
        "DisplayPrecision=4\n",
        "pHat=nSuccessses/n\n",
        "h(Claim,'z',alpha,pHat,None,n,DisplayPrecision)"
      ],
      "metadata": {
        "colab": {
          "base_uri": "https://localhost:8080/"
        },
        "id": "a94iQpwF8WYJ",
        "outputId": "0a3c3bee-e721-460f-a61c-5ac240e72893"
      },
      "execution_count": null,
      "outputs": [
        {
          "output_type": "stream",
          "name": "stdout",
          "text": [
            "Claim: p<0.55\n",
            "H0: p>=0.55\n",
            "HA: p<0.55\n",
            "Sample proportion = 0.53\n",
            "Standard Deviation = 0.4991\n",
            "se = 0.0499\n",
            "Test statistic = -0.402 \n",
            "Nonrejection region =[ -1.6449 ,inf]\n",
            "Left-Sided p-Value = 0.3438 > 0.05  \n",
            "Fail to reject H0\n",
            "Not enough evidence to support the claim.\n"
          ]
        }
      ]
    },
    {
      "cell_type": "markdown",
      "source": [
        "# 5: Test population proportion when sample proportion is known"
      ],
      "metadata": {
        "id": "1cMn6ZUJYJsr"
      }
    },
    {
      "cell_type": "code",
      "source": [
        "##  Enter your data #################\n",
        "Claim=\"p<0.55\" # population prroportion\n",
        "alpha=0.05 \n",
        "pHat=0.46\n",
        "################\n",
        "DisplayPrecision=4\n",
        "h(Claim,'z',alpha,pHat,None,100,DisplayPrecision)"
      ],
      "metadata": {
        "colab": {
          "base_uri": "https://localhost:8080/"
        },
        "id": "D7mdRZdAY_tv",
        "outputId": "161397c1-a85a-4e7e-a8be-4b526393746e"
      },
      "execution_count": null,
      "outputs": [
        {
          "output_type": "stream",
          "name": "stdout",
          "text": [
            "Claim: p<0.55\n",
            "H0: p>=0.55\n",
            "HA: p<0.55\n",
            "Sample proportion = 0.46\n",
            "Standard Deviation = 0.4984\n",
            "se = 0.0498\n",
            "Test statistic = -1.8091 \n",
            "Nonrejection region =[ -1.6449 ,inf]\n",
            "Left-Sided p-Value = 0.0352 < 0.05 . \n",
            "Reject H0\n",
            "Enough evidence to support the claim.\n"
          ]
        }
      ]
    }
  ]
}